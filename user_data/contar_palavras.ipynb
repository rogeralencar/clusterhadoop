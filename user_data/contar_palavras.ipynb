{
 "cells": [
  {
   "cell_type": "code",
   "execution_count": 1,
   "id": "55e3cd35-1cd4-4a56-a86e-c242e0bea55b",
   "metadata": {},
   "outputs": [],
   "source": [
    "import findspark\n",
    "from pyspark.sql.session import SparkSession\n",
    "from pyspark import SparkContext, SparkConf"
   ]
  },
  {
   "cell_type": "code",
   "execution_count": 2,
   "id": "4fc9cff4-48ca-4247-abb0-5ec25e9050db",
   "metadata": {},
   "outputs": [],
   "source": [
    "# Inicializando Spark\n",
    "findspark.init(\"/usr/spark-3.5.1/\")"
   ]
  },
  {
   "cell_type": "code",
   "execution_count": 3,
   "id": "93aa97e1-c014-4619-8255-8cbbcb72ce3b",
   "metadata": {},
   "outputs": [
    {
     "name": "stderr",
     "output_type": "stream",
     "text": [
      "Setting default log level to \"WARN\".\n",
      "To adjust logging level use sc.setLogLevel(newLevel). For SparkR, use setLogLevel(newLevel).\n",
      "24/06/02 19:31:25 WARN NativeCodeLoader: Unable to load native-hadoop library for your platform... using builtin-java classes where applicable\n",
      "24/06/02 19:31:40 WARN Client: Neither spark.yarn.jars nor spark.yarn.archive is set, falling back to uploading libraries under SPARK_HOME.\n"
     ]
    }
   ],
   "source": [
    "\n",
    "spark = (\n",
    "    SparkSession.builder.appName(\"sparksubmit_test_app\")\n",
    "    .config(\"spark.sql.warehouse.dir\", \"hdfs:///user/hive/warehouse\")\n",
    "    .config(\"spark.sql.catalogImplementation\", \"hive\")\n",
    "    .getOrCreate()\n",
    ")"
   ]
  },
  {
   "cell_type": "code",
   "execution_count": 4,
   "id": "cb673e62-7a50-4c3a-b3aa-77ae13cb6d14",
   "metadata": {},
   "outputs": [],
   "source": [
    "# criar um contexto de sessão do spark (cria um \"programa\")\n",
    "sc = SparkContext.getOrCreate()\n"
   ]
  },
  {
   "cell_type": "code",
   "execution_count": 5,
   "id": "94129ce8-bff4-4c07-9271-136bd246c937",
   "metadata": {},
   "outputs": [],
   "source": [
    "def main():\n",
    "\n",
    "    df = spark.read.text(\"hdfs://spark-master:9000/datasets/\")  # noqa: F841\n",
    "\n",
    "    # variável recebe o caminho que aponta para uma arquivo de texto\n",
    "    file_path = \"/datasets/*.txt\"\n",
    "    # leitura do arquivo de texto pelo programa spark\n",
    "    words = sc.textFile(f\"{file_path}\").flatMap(lambda line: line.split(\" \"))\n",
    "    # contagem de palavras utilizando a sintaxe facilitada do pyspark\n",
    "    wordCounts = words.map(lambda word: (word, 1)).reduceByKey(lambda a,b:a +b)\n",
    "    # salvando arquivo com resultado da execução\n",
    "    wordCounts.saveAsTextFile(f\"{'/'.join(file_path.split('/')[:-1])}/word_count\")\n",
    "   \n",
    "    print(wordCounts.count())\n",
    "    print(wordCounts.countApproxDistinct())\n"
   ]
  },
  {
   "cell_type": "code",
   "execution_count": 6,
   "id": "a5224305-86b4-4752-b1ff-5e2614679c41",
   "metadata": {},
   "outputs": [
    {
     "name": "stderr",
     "output_type": "stream",
     "text": [
      "                                                                                \r"
     ]
    },
    {
     "name": "stdout",
     "output_type": "stream",
     "text": [
      "75752\n"
     ]
    },
    {
     "name": "stderr",
     "output_type": "stream",
     "text": [
      "[Stage 5:=================================================>         (5 + 1) / 6]\r"
     ]
    },
    {
     "name": "stdout",
     "output_type": "stream",
     "text": [
      "74470\n"
     ]
    },
    {
     "name": "stderr",
     "output_type": "stream",
     "text": [
      "                                                                                \r"
     ]
    }
   ],
   "source": [
    "if __name__ == \"__main__\":\n",
    "    main()\n"
   ]
  },
  {
   "cell_type": "code",
   "execution_count": 7,
   "id": "568a2159-7b45-4a34-a415-ba86fe9cd04c",
   "metadata": {},
   "outputs": [],
   "source": [
    "spark.stop()"
   ]
  },
  {
   "cell_type": "code",
   "execution_count": null,
   "id": "298a05e4-ff75-4119-8218-661702782ec4",
   "metadata": {},
   "outputs": [],
   "source": []
  }
 ],
 "metadata": {
  "kernelspec": {
   "display_name": "Python 3 (ipykernel)",
   "language": "python",
   "name": "python3"
  },
  "language_info": {
   "codemirror_mode": {
    "name": "ipython",
    "version": 3
   },
   "file_extension": ".py",
   "mimetype": "text/x-python",
   "name": "python",
   "nbconvert_exporter": "python",
   "pygments_lexer": "ipython3",
   "version": "3.9.2"
  }
 },
 "nbformat": 4,
 "nbformat_minor": 5
}
